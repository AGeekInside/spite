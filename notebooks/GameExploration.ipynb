{
 "cells": [
  {
   "cell_type": "code",
   "execution_count": 1,
   "id": "af6977e4-ba45-476d-872d-947196e8b97f",
   "metadata": {},
   "outputs": [],
   "source": [
    "import pydealer\n",
    "\n",
    "num_of_players = 3\n",
    "num_side_stacks = 4\n",
    "cards_in_hand = 5\n",
    "cards_in_goal = 12"
   ]
  },
  {
   "cell_type": "code",
   "execution_count": 2,
   "id": "5e8ab6c2-ecd9-44f7-91aa-dc328d9bbf2c",
   "metadata": {},
   "outputs": [],
   "source": [
    "from dataclasses import dataclass\n",
    "from typing import List\n",
    "\n",
    "@dataclass\n",
    "class Player:\n",
    "    hand: pydealer.Stack\n",
    "    goal_pile: pydealer.Stack\n",
    "    side_stacks: List[pydealer.Stack]\n",
    "\n",
    "class SpitePlayer:\n",
    "    def __init__(self, hand, goal_pile, side_stacks):\n",
    "        self.hand = hand\n",
    "        self.goal_pile = goal_pile\n",
    "        self.side_stacks = side_stacks\n",
    "    \n",
    "@dataclass\n",
    "class SpiteState:\n",
    "    players: List[SpitePlayer]\n",
    "    center_stacks: List[pydealer.Stack]\n",
    "    draw_pile: pydealer.Stack\n",
    "    completed_piles: pydealer.Stack"
   ]
  },
  {
   "cell_type": "code",
   "execution_count": 3,
   "id": "547c56ba-2456-4303-8f4c-2684cb19395c",
   "metadata": {},
   "outputs": [],
   "source": [
    "def setup_game():\n",
    "    \n",
    "    game_deck = pydealer.Deck() + pydealer.Deck()\n",
    "    game_deck.shuffle()\n",
    "    \n",
    "    players = []\n",
    "    \n",
    "    for _ in range(num_of_players):\n",
    "        work_hand = game_deck.deal(cards_in_hand)\n",
    "        work_goal = game_deck.deal(cards_in_goal)\n",
    "        work_stacks = [game_deck.deal(1) for _ in range(num_side_stacks)]\n",
    "\n",
    "        work_player = SpitePlayer(hand=work_hand, goal_pile=work_goal, side_stacks=work_stacks)\n",
    "        players.append(work_player)\n",
    "    \n",
    "    game_state = SpiteState(players=players, center_stacks=[], draw_pile=game_deck, completed_piles=pydealer.Stack())\n",
    "            \n",
    "    return game_state"
   ]
  },
  {
   "cell_type": "code",
   "execution_count": 4,
   "id": "f8848cf6-5460-4529-9f42-85bd4dc8cd54",
   "metadata": {},
   "outputs": [],
   "source": [
    "game_state = setup_game()"
   ]
  },
  {
   "cell_type": "code",
   "execution_count": 5,
   "id": "61309502-f180-4ae0-ac0f-461a58922f81",
   "metadata": {},
   "outputs": [
    {
     "name": "stdout",
     "output_type": "stream",
     "text": [
      "SpiteState(players=[<__main__.SpitePlayer object at 0x7f753b468040>,\n",
      "                    <__main__.SpitePlayer object at 0x7f753b469bd0>,\n",
      "                    <__main__.SpitePlayer object at 0x7f753b468460>],\n",
      "           center_stacks=[],\n",
      "           draw_pile=Deck(cards=deque([Card(value='Queen', suit='Diamonds'), Card(value='King', suit='Diamonds'), Card(value='10', suit='Spades'), Card(value='3', suit='Spades'), Card(value='4', suit='Diamonds'), Card(value='2', suit='Clubs'), Card(value='King', suit='Clubs'), Card(value='King', suit='Hearts'), Card(value='4', suit='Hearts'), Card(value='King', suit='Diamonds'), Card(value='Ace', suit='Diamonds'), Card(value='5', suit='Diamonds'), Card(value='6', suit='Diamonds'), Card(value='7', suit='Diamonds'), Card(value='Jack', suit='Diamonds'), Card(value='2', suit='Clubs'), Card(value='5', suit='Hearts'), Card(value='8', suit='Spades'), Card(value='5', suit='Clubs'), Card(value='6', suit='Hearts'), Card(value='Ace', suit='Diamonds'), Card(value='Jack', suit='Spades'), Card(value='3', suit='Clubs'), Card(value='3', suit='Clubs'), Card(value='King', suit='Hearts'), Card(value='4', suit='Spades'), Card(value='Jack', suit='Spades'), Card(value='7', suit='Spades'), Card(value='Jack', suit='Hearts'), Card(value='Jack', suit='Clubs'), Card(value='9', suit='Diamonds'), Card(value='10', suit='Spades'), Card(value='10', suit='Diamonds'), Card(value='2', suit='Diamonds'), Card(value='7', suit='Hearts'), Card(value='Queen', suit='Diamonds'), Card(value='10', suit='Clubs'), Card(value='4', suit='Spades'), Card(value='9', suit='Clubs'), Card(value='Jack', suit='Hearts'), Card(value='8', suit='Spades')])),\n",
      "           completed_piles=Stack(cards=deque([])))\n"
     ]
    }
   ],
   "source": [
    "from pprint import pprint\n",
    "pprint(game_state)"
   ]
  },
  {
   "cell_type": "code",
   "execution_count": null,
   "id": "dccc2931-65ae-4cbf-befe-c6cb7edb2301",
   "metadata": {},
   "outputs": [],
   "source": []
  }
 ],
 "metadata": {
  "kernelspec": {
   "display_name": "Python 3 (ipykernel)",
   "language": "python",
   "name": "python3"
  },
  "language_info": {
   "codemirror_mode": {
    "name": "ipython",
    "version": 3
   },
   "file_extension": ".py",
   "mimetype": "text/x-python",
   "name": "python",
   "nbconvert_exporter": "python",
   "pygments_lexer": "ipython3",
   "version": "3.10.2"
  }
 },
 "nbformat": 4,
 "nbformat_minor": 5
}
